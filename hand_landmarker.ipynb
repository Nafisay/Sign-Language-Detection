{
  "cells": [
    {
      "cell_type": "code",
      "execution_count": null,
      "metadata": {
        "cellView": "form",
        "id": "s3E6NFV-00Qt"
      },
      "outputs": [],
      "source": [
        "from sklearn.ensemble import RandomForestClassifier, GradientBoostingClassifier\n",
        "from sklearn.linear_model import LogisticRegression, RidgeClassifier\n",
        "from sklearn.preprocessing import StandardScaler\n",
        "from sklearn.model_selection import train_test_split  \n",
        "from sklearn.pipeline import make_pipeline\n",
        "from sklearn.metrics import accuracy_score\n",
        "from mediapipe.tasks import python\n",
        "from mediapipe.tasks.python import vision\n",
        "from mediapipe import solutions\n",
        "from mediapipe.framework.formats import landmark_pb2\n",
        "import mediapipe as mp\n",
        "import numpy as np\n",
        "import pandas as pd\n",
        "import pickle\n",
        "import cv2\n",
        "import csv"
      ]
    },
    {
      "cell_type": "code",
      "execution_count": null,
      "metadata": {},
      "outputs": [],
      "source": [
        "MARGIN = 10  # pixels\n",
        "FONT_SIZE = 1\n",
        "FONT_THICKNESS = 1\n",
        "HANDEDNESS_TEXT_COLOR = (88, 205, 54) # vibrant green"
      ]
    },
    {
      "cell_type": "code",
      "execution_count": null,
      "metadata": {},
      "outputs": [],
      "source": [
        "def draw_landmarks_on_image(rgb_image, detection_result):\n",
        "  hand_landmarks_list = detection_result.hand_landmarks\n",
        "  handedness_list = detection_result.handedness\n",
        "  annotated_image = np.copy(rgb_image)\n",
        "\n",
        "  # Loop through the detected hands to visualize.\n",
        "  for idx in range(len(hand_landmarks_list)):\n",
        "    hand_landmarks = hand_landmarks_list[idx]\n",
        "    handedness = handedness_list[idx]\n",
        "\n",
        "    # Draw the hand landmarks.\n",
        "    hand_landmarks_proto = landmark_pb2.NormalizedLandmarkList()\n",
        "    hand_landmarks_proto.landmark.extend([\n",
        "      landmark_pb2.NormalizedLandmark(x=landmark.x, y=landmark.y, z=landmark.z) for landmark in hand_landmarks\n",
        "    ])\n",
        "    solutions.drawing_utils.draw_landmarks(\n",
        "      annotated_image,\n",
        "      hand_landmarks_proto,\n",
        "      solutions.hands.HAND_CONNECTIONS,\n",
        "      solutions.drawing_styles.get_default_hand_landmarks_style(),\n",
        "      solutions.drawing_styles.get_default_hand_connections_style())\n",
        "\n",
        "    # Get the top left corner of the detected hand's bounding box.\n",
        "    height, width, _ = annotated_image.shape\n",
        "    x_coordinates = [landmark.x for landmark in hand_landmarks]\n",
        "    y_coordinates = [landmark.y for landmark in hand_landmarks]\n",
        "    text_x = int(min(x_coordinates) * width)\n",
        "    text_y = int(min(y_coordinates) * height) - MARGIN\n",
        "\n",
        "    # Draw handedness (left or right hand) on the image.\n",
        "    cv2.putText(annotated_image, f\"{handedness[0].category_name}\",\n",
        "                (text_x, text_y), cv2.FONT_HERSHEY_DUPLEX,\n",
        "                FONT_SIZE, HANDEDNESS_TEXT_COLOR, FONT_THICKNESS, cv2.LINE_AA)\n",
        "\n",
        "  return annotated_image"
      ]
    },
    {
      "cell_type": "code",
      "execution_count": null,
      "metadata": {},
      "outputs": [],
      "source": [
        "base_options = python.BaseOptions(model_asset_path='hand_landmarker_model/hand_landmarker.task')\n",
        "options = vision.HandLandmarkerOptions(base_options=base_options,\n",
        "                                       num_hands=2)\n",
        "detector = vision.HandLandmarker.create_from_options(options)"
      ]
    },
    {
      "cell_type": "code",
      "execution_count": null,
      "metadata": {},
      "outputs": [],
      "source": [
        "cap = cv2.VideoCapture(0) # 0 for webcam\n",
        "    \n",
        "while cap.isOpened():\n",
        "    ret, frame = cap.read()\n",
        "    \n",
        "    if not ret:\n",
        "        print(\"Ignoring empty camera frame.\")\n",
        "        continue\n",
        "\n",
        "    # Convert the BGR image to RGB\n",
        "    image = mp.Image(image_format=mp.ImageFormat.SRGB, data=frame)      \n",
        "    \n",
        "    # Make Detections\n",
        "    results = detector.detect(image)\n",
        "    \n",
        "    # Draw landmarks on the image\n",
        "    annotated_image = draw_landmarks_on_image(image.numpy_view(), results)\n",
        "\n",
        "    cv2.imshow('Raw Webcam Feed', annotated_image)\n",
        "    \n",
        "    if cv2.waitKey(10) & 0xFF == ord('q'):\n",
        "        break\n",
        "\n",
        "cap.release()\n",
        "cv2.destroyAllWindows()"
      ]
    },
    {
      "cell_type": "code",
      "execution_count": null,
      "metadata": {},
      "outputs": [],
      "source": [
        "# num_coords = 21 # number of coordinates for each hand\n",
        "num_coords = len(results.hand_landmarks[0])\n",
        "num_coords"
      ]
    },
    {
      "cell_type": "code",
      "execution_count": null,
      "metadata": {},
      "outputs": [],
      "source": [
        "landmarks = ['class']\n",
        "for val in range(1, num_coords+1):\n",
        "    landmarks += ['x{}'.format(val), 'y{}'.format(val), 'z{}'.format(val), 'v{}'.format(val)]"
      ]
    },
    {
      "cell_type": "code",
      "execution_count": null,
      "metadata": {},
      "outputs": [],
      "source": [
        "with open('hand_coords.csv', mode='w', newline='') as f:\n",
        "    csv_writer = csv.writer(f, delimiter=',', quotechar='\"', quoting=csv.QUOTE_MINIMAL)\n",
        "    csv_writer.writerow(landmarks)"
      ]
    },
    {
      "cell_type": "code",
      "execution_count": null,
      "metadata": {},
      "outputs": [],
      "source": [
        "class_name = \"Y\" # Add different classes here, and re-run the below code for each class (A-I and K-Y)"
      ]
    },
    {
      "cell_type": "code",
      "execution_count": null,
      "metadata": {},
      "outputs": [],
      "source": [
        "cap = cv2.VideoCapture(0)\n",
        "    \n",
        "while cap.isOpened():\n",
        "    ret, frame = cap.read()\n",
        "    \n",
        "    # Recolor Feed\n",
        "    image = mp.Image(image_format=mp.ImageFormat.SRGB, data=frame)\n",
        "    \n",
        "    # Make Detections\n",
        "    results = detector.detect(image)\n",
        "    \n",
        "    annotated_image = draw_landmarks_on_image(image.numpy_view(), results)\n",
        "\n",
        "    # Export coordinates\n",
        "    try:\n",
        "        left = results.hand_landmarks[0]\n",
        "        left_row = list(np.array([[landmark.x, landmark.y, landmark.z, landmark.visibility] for landmark in left]).flatten())\n",
        "        left_row.insert(0, class_name)\n",
        "\n",
        "        with open('hand_coords.csv', mode='a', newline='') as f:\n",
        "            csv_writer = csv.writer(f, delimiter=',', quotechar='\"', quoting=csv.QUOTE_MINIMAL)\n",
        "            csv_writer.writerow(left_row)\n",
        "    except:\n",
        "        pass\n",
        "\n",
        "    try:\n",
        "        right = results.hand_landmarks[1] \n",
        "        right_row = list(np.array([[landmark.x, landmark.y, landmark.z, landmark.visibility] for landmark in right]).flatten())\n",
        "        right_row.insert(0, class_name)\n",
        "\n",
        "        with open('hand_coords.csv', mode='a', newline='') as f:\n",
        "            csv_writer = csv.writer(f, delimiter=',', quotechar='\"', quoting=csv.QUOTE_MINIMAL)\n",
        "            csv_writer.writerow(right_row)\n",
        "    except:\n",
        "        pass\n",
        "\n",
        "    cv2.imshow('Raw Webcam Feed', annotated_image)\n",
        "    if cv2.waitKey(10) & 0xFF == ord('q'):\n",
        "        break\n",
        "\n",
        "cap.release()\n",
        "cv2.destroyAllWindows()"
      ]
    },
    {
      "cell_type": "code",
      "execution_count": null,
      "metadata": {},
      "outputs": [],
      "source": [
        "df = pd.read_csv('hand_coords.csv')"
      ]
    },
    {
      "cell_type": "code",
      "execution_count": null,
      "metadata": {},
      "outputs": [],
      "source": [
        "df"
      ]
    },
    {
      "cell_type": "code",
      "execution_count": null,
      "metadata": {},
      "outputs": [],
      "source": [
        "X = df.drop('class', axis=1) # features\n",
        "y = df['class'] # target value"
      ]
    },
    {
      "cell_type": "code",
      "execution_count": null,
      "metadata": {},
      "outputs": [],
      "source": [
        "X_train, X_test, y_train, y_test = train_test_split(X, y, test_size=0.3, random_state=1234) # 70% training data, 30% testing data"
      ]
    },
    {
      "cell_type": "code",
      "execution_count": null,
      "metadata": {},
      "outputs": [],
      "source": [
        "y_test"
      ]
    },
    {
      "cell_type": "code",
      "execution_count": null,
      "metadata": {},
      "outputs": [],
      "source": [
        "# increase the max_iter parameter if the model is not converging\n",
        "pipelines = {\n",
        "    'lr':make_pipeline(StandardScaler(), LogisticRegression(max_iter=300, class_weight='balanced')),\n",
        "    'rc':make_pipeline(StandardScaler(), RidgeClassifier()),\n",
        "    'rf':make_pipeline(StandardScaler(), RandomForestClassifier()),\n",
        "    'gb':make_pipeline(StandardScaler(), GradientBoostingClassifier())\n",
        "} "
      ]
    },
    {
      "cell_type": "code",
      "execution_count": null,
      "metadata": {},
      "outputs": [],
      "source": [
        "fit_models = {}\n",
        "for algo, pipeline in pipelines.items():\n",
        "    model = pipeline.fit(X_train, y_train)\n",
        "    fit_models[algo] = model"
      ]
    },
    {
      "cell_type": "code",
      "execution_count": null,
      "metadata": {},
      "outputs": [],
      "source": [
        "fit_models"
      ]
    },
    {
      "cell_type": "code",
      "execution_count": null,
      "metadata": {},
      "outputs": [],
      "source": [
        "for algo, model in fit_models.items():\n",
        "    yhat = model.predict(X_test)\n",
        "    print(algo, accuracy_score(y_test, yhat))"
      ]
    },
    {
      "cell_type": "code",
      "execution_count": null,
      "metadata": {},
      "outputs": [],
      "source": [
        "# save the best model\n",
        "with open('sign_detection.pkl', 'wb') as f:\n",
        "    pickle.dump(fit_models['lr'], f)"
      ]
    },
    {
      "cell_type": "code",
      "execution_count": null,
      "metadata": {},
      "outputs": [],
      "source": [
        "# load the model\n",
        "with open('sign_detection.pkl', 'rb') as f:\n",
        "    loaded_model = pickle.load(f)"
      ]
    },
    {
      "cell_type": "code",
      "execution_count": null,
      "metadata": {},
      "outputs": [],
      "source": [
        "loaded_model"
      ]
    },
    {
      "cell_type": "code",
      "execution_count": null,
      "metadata": {},
      "outputs": [],
      "source": [
        "cap = cv2.VideoCapture(0)\n",
        "\n",
        "while cap.isOpened():\n",
        "    ret, frame = cap.read()\n",
        "\n",
        "    image = mp.Image(image_format=mp.ImageFormat.SRGB, data=frame)\n",
        "    \n",
        "    # Make Detections\n",
        "    results = detector.detect(image)\n",
        "    \n",
        "    annotated_image = draw_landmarks_on_image(image.numpy_view(), results)\n",
        "       \n",
        "    # Export coordinates\n",
        "    try:\n",
        "        left = results.hand_landmarks[0]\n",
        "        left_row = list(np.array([[landmark.x, landmark.y, landmark.z, landmark.visibility] for landmark in left]).flatten())\n",
        "        \n",
        "        X = pd.DataFrame([left_row])\n",
        "        \n",
        "        # predict the class\n",
        "        sign_det_class = loaded_model.predict(X)[0]\n",
        "        sign_det_prob = loaded_model.predict_proba(X)[0]\n",
        "    \n",
        "        cv2.rectangle(annotated_image, (0,0), (250,60), (245, 117, 16), -1)\n",
        "\n",
        "        cv2.putText(annotated_image, 'CLASS', (95,12), \n",
        "                    cv2.FONT_HERSHEY_SIMPLEX, 0.5, (0, 0, 0), 1, cv2.LINE_AA)\n",
        "        cv2.putText(annotated_image, sign_det_class.split(' ')[0], (90,60),\n",
        "                    cv2.FONT_HERSHEY_SIMPLEX, 1, (255, 255, 255), 2, cv2.LINE_AA)\n",
        "        \n",
        "        cv2.putText(annotated_image, 'PROB', (15,12),\n",
        "                    cv2.FONT_HERSHEY_SIMPLEX, 0.5, (0, 0, 0), 1, cv2.LINE_AA)\n",
        "        cv2.putText(annotated_image, str(round(sign_det_prob[np.argmax(sign_det_prob)],2)), (10,60),\n",
        "                    cv2.FONT_HERSHEY_SIMPLEX, 1, (255, 255, 255), 2, cv2.LINE_AA)\n",
        "\n",
        "    except:\n",
        "        pass\n",
        "\n",
        "    try:\n",
        "        right = results.hand_landmarks[1]\n",
        "        right_row = list(np.array([[landmark.x, landmark.y, landmark.z, landmark.visibility] for landmark in right]).flatten())\n",
        "\n",
        "        X = pd.DataFrame([right_row])\n",
        "\n",
        "        # predict the class\n",
        "        sign_det_class = loaded_model.predict(X)[0]\n",
        "        sign_det_prob = loaded_model.predict_proba(X)[0]\n",
        "\n",
        "        cv2.rectangle(annotated_image, (0,0), (250,60), (245, 117, 16), -1)\n",
        "\n",
        "        cv2.putText(annotated_image, 'CLASS', (95,12), \n",
        "                    cv2.FONT_HERSHEY_SIMPLEX, 0.5, (0, 0, 0), 1, cv2.LINE_AA)\n",
        "        cv2.putText(annotated_image, sign_det_class.split(' ')[0], (90,60),\n",
        "                    cv2.FONT_HERSHEY_SIMPLEX, 1, (255, 255, 255), 2, cv2.LINE_AA)\n",
        "        \n",
        "        cv2.putText(annotated_image, 'PROB', (15,12),\n",
        "                    cv2.FONT_HERSHEY_SIMPLEX, 0.5, (0, 0, 0), 1, cv2.LINE_AA)\n",
        "        cv2.putText(annotated_image, str(round(sign_det_prob[np.argmax(sign_det_prob)],2)), (10,60),\n",
        "                    cv2.FONT_HERSHEY_SIMPLEX, 1, (255, 255, 255), 2, cv2.LINE_AA)\n",
        "        \n",
        "    except:\n",
        "        pass\n",
        "\n",
        "    cv2.imshow('Predictions', annotated_image)\n",
        "    if cv2.waitKey(10) & 0xFF == ord('q'):\n",
        "        break\n",
        "\n",
        "cap.release()\n",
        "cv2.destroyAllWindows()"
      ]
    },
    {
      "cell_type": "code",
      "execution_count": null,
      "metadata": {},
      "outputs": [],
      "source": []
    }
  ],
  "metadata": {
    "colab": {
      "collapsed_sections": [
        "h2q27gKz1H20"
      ],
      "provenance": []
    },
    "kernelspec": {
      "display_name": "Python 3 (ipykernel)",
      "language": "python",
      "name": "python3"
    },
    "language_info": {
      "codemirror_mode": {
        "name": "ipython",
        "version": 3
      },
      "file_extension": ".py",
      "mimetype": "text/x-python",
      "name": "python",
      "nbconvert_exporter": "python",
      "pygments_lexer": "ipython3",
      "version": "3.11.4"
    }
  },
  "nbformat": 4,
  "nbformat_minor": 0
}
